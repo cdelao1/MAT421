{
 "cells": [
  {
   "cell_type": "markdown",
   "metadata": {},
   "source": [
    "Here we will study linear algebra and how NumPy can provide us with all the useful tools we use in linear algebra.\n",
    "First, we'll demonstrate what vectors look like, and then matrices. Note, column vectors and row vectors have different formats as NumPy arrays."
   ]
  },
  {
   "cell_type": "code",
   "execution_count": 2,
   "metadata": {},
   "outputs": [],
   "source": [
    "#importing the goods\n",
    "import numpy as np\n",
    "from numpy import linalg as la"
   ]
  },
  {
   "cell_type": "code",
   "execution_count": 5,
   "metadata": {},
   "outputs": [
    {
     "name": "stdout",
     "output_type": "stream",
     "text": [
      "(1, 3)\n",
      "(3, 1)\n",
      "2\n",
      "2\n"
     ]
    }
   ],
   "source": [
    "#row vectors\n",
    "x1 = np.array([[1,2,-3]])\n",
    "x2 = np.array([[0,-3,6]])\n",
    "#column vectors\n",
    "y1 = np.array([[1],[-2],[5]])\n",
    "y2 = np.array([[-2],[5],[0]])\n",
    "#note the shape difference but same dimension\n",
    "print(np.shape(x1))\n",
    "print(np.shape(y1))\n",
    "print(np.ndim(x1))\n",
    "print(np.ndim(y1))"
   ]
  },
  {
   "cell_type": "markdown",
   "metadata": {},
   "source": [
    "We can find the magnitudes of the vectors, take dot products, cross products and other operations we use in linear algebra."
   ]
  },
  {
   "cell_type": "code",
   "execution_count": 27,
   "metadata": {},
   "outputs": [
    {
     "name": "stdout",
     "output_type": "stream",
     "text": [
      "[[ 1 -1  3]]\n",
      "\n",
      "[[ 2  4 -6]]\n",
      "[[0]\n",
      " [0]\n",
      " [0]]\n",
      "\n",
      "[[ 10]\n",
      " [-24]\n",
      " [ 10]]\n",
      "\n",
      "3.7416573867739413\n",
      "27.85677655436824\n",
      "\n",
      "[[-10]]\n",
      "[[-12]]\n",
      "\n",
      "[[ 1 -1  3]\n",
      " [ 2 -2  6]\n",
      " [-3  3 -9]]\n",
      "[[ -2   5   0]\n",
      " [  4 -10   0]\n",
      " [-10  25   0]]\n",
      "\n",
      "[[ 3 -6 -3]]\n",
      "[[-4  8  4]]\n"
     ]
    }
   ],
   "source": [
    "#Vector addition\n",
    "x3 = x1 + x2\n",
    "print(x3)\n",
    "print()\n",
    "#Scaling a vector\n",
    "w1 = 2*x1\n",
    "w2 = 0*y1\n",
    "print(w1)\n",
    "print(w2)\n",
    "print()\n",
    "#Of course these operations work when joined\n",
    "y3 = 2*y1-4*y2\n",
    "print(y3)\n",
    "print()\n",
    "#Euclidean norm of a vector\n",
    "x1n = la.norm(x1)\n",
    "y3n = la.norm(y3)\n",
    "print(x1n)\n",
    "print(y3n)\n",
    "print()\n",
    "#Dot product and cross products\n",
    "print(np.dot(x1,x3.T))\n",
    "print(np.dot(y1.T,y2))\n",
    "print()\n",
    "#Notice the order we have to calculate this in, otherwise we get another operation\n",
    "#Dot products have to make sense between a vector and a transposed vector.\n",
    "#Here's what happens if we swap the order.\n",
    "print(np.dot(x1.T,x3))\n",
    "print(np.dot(y1,y2.T))\n",
    "print()\n",
    "#Cross products only work for row vectors because they're acting as 2 different\n",
    "#axises of the arrays. Remember these are still arrays which take entries, and\n",
    "#have axises. Dimensions must be compative even if objects have the same shape.\n",
    "print(np.cross(x1,x2))\n",
    "print(np.cross(y1.T,x1))"
   ]
  },
  {
   "cell_type": "markdown",
   "metadata": {},
   "source": [
    "We can have matrix operations on larger arrays of more than one axis and higher dimension."
   ]
  },
  {
   "cell_type": "code",
   "execution_count": 51,
   "metadata": {},
   "outputs": [
    {
     "name": "stdout",
     "output_type": "stream",
     "text": [
      "M:\n",
      " [[0 2 1 3]\n",
      " [3 2 8 1]\n",
      " [1 0 0 3]\n",
      " [0 3 2 1]]\n",
      "Determinant: -38.0\n",
      "I:\n",
      " [[1. 0. 0. 0.]\n",
      " [0. 1. 0. 0.]\n",
      " [0. 0. 1. 0.]\n",
      " [0. 0. 0. 1.]]\n",
      "M*I:\n",
      " [[0. 2. 1. 3.]\n",
      " [3. 2. 8. 1.]\n",
      " [1. 0. 0. 3.]\n",
      " [0. 3. 2. 1.]]\n",
      "\n",
      "Inv(M):\n",
      " [[-1.57894737 -0.07894737  1.23684211  1.10526316]\n",
      " [-0.63157895 -0.13157895  0.39473684  0.84210526]\n",
      " [ 0.68421053  0.18421053 -0.55263158 -0.57894737]\n",
      " [ 0.52631579  0.02631579 -0.07894737 -0.36842105]]\n",
      "\n",
      "M*Inv(M):\n",
      " [[ 1.  0.  0.  0.]\n",
      " [ 0.  1. -0. -0.]\n",
      " [ 0.  0.  1. -0.]\n",
      " [ 0.  0.  0.  1.]]\n"
     ]
    }
   ],
   "source": [
    "#Defining matrices\n",
    "M = np.array([[0,2,1,3],\n",
    "[3,2,8,1],\n",
    "[1,0,0,3],\n",
    "[0,3,2,1]])\n",
    "#Identity Matrix\n",
    "I = np.identity(4)\n",
    "#Determinant\n",
    "print(\"M:\\n\", M)\n",
    "print(\"Determinant: %.1f\"%la.det(M))\n",
    "print(\"I:\\n\", I)\n",
    "print(\"M*I:\\n\", np.dot(M, I))\n",
    "print()\n",
    "#Inverse of a matrix\n",
    "print('Inv(M):\\n',la.inv(M))\n",
    "print()\n",
    "#Matrix times inverse is Identity\n",
    "#The formatting is to remove numbers e-16 which are basically 0\n",
    "print('M*Inv(M):\\n',np.array_str((M@la.inv(M)),precision=1,suppress_small=True))"
   ]
  },
  {
   "cell_type": "markdown",
   "metadata": {},
   "source": [
    "Now that we've seen Python's Linear Algebra package, we can use it in the most practical case. We can solve a system of equations of the normal form $A\\bold{x}=\\bold{y}$ where $A$ is a square matrix. Otherwise we would have infinite solutions to the system, which aren't of interest. We'll assume $A$ is a matrix with linearly independent columns/rows. Consider $A$ to be a $4 \\times 4$ matrix for the following system:\n",
    "\\begin{align*}\n",
    "-x_4+5x_3+3x_2+2x_1 &= 2\\\\\n",
    "3x_4-2x_3-2x_2     &= -3\\\\\n",
    "-4x_3+9x_2+2x_1 &= 1\\\\\n",
    "6x_4+x_3+x_2-4x_1 &=5 \n",
    "\\end{align*}"
   ]
  },
  {
   "cell_type": "code",
   "execution_count": null,
   "metadata": {},
   "outputs": [],
   "source": [
    "#A matrix\n",
    "A = np.array([[-1,5,3,2],\n",
    "              [3,-2,-2,0],\n",
    "              [0,-4,9,2],\n",
    "              [6,1,1,-4]])\n",
    "#Our desired vector\n",
    "y = np.array([2,-3,1,5])\n",
    "#our solution\n",
    "x = la.solve(A,y)\n",
    "print(x)\n"
   ]
  }
 ],
 "metadata": {
  "interpreter": {
   "hash": "e35555b63be10ada04ecc3e6b847e282b143adce4badf5d353858b2c94d05ee1"
  },
  "kernelspec": {
   "display_name": "Python 3.9.6 64-bit",
   "language": "python",
   "name": "python3"
  },
  "language_info": {
   "codemirror_mode": {
    "name": "ipython",
    "version": 3
   },
   "file_extension": ".py",
   "mimetype": "text/x-python",
   "name": "python",
   "nbconvert_exporter": "python",
   "pygments_lexer": "ipython3",
   "version": "3.9.6"
  },
  "orig_nbformat": 4
 },
 "nbformat": 4,
 "nbformat_minor": 2
}
