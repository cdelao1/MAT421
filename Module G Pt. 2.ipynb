{
 "cells": [
  {
   "cell_type": "code",
   "execution_count": 12,
   "metadata": {},
   "outputs": [],
   "source": [
    "#importing the goods\n",
    "import numpy as np\n",
    "from scipy import integrate"
   ]
  },
  {
   "cell_type": "markdown",
   "metadata": {},
   "source": [
    "Last time we saw some of the way to integrate functions in Python. We can still make use of other methods of integration. Here we will look at Simpson's Rule, and take another method of integration built into SciPy. The use of Simpson's Rule apporixmats the area under a function $f(x)$ over two subintervals by fitting a quadratic polynomial through the points $(x_{i-1},f(x_{i-1})), (x_i,f(x_i))$ and $(x_{i+1},f(x_{i+1}))$. Lagrange polynomials can be used, this process we examined earlier this semester. Let us consider the $\\cos(x)$ function on the interval $(0,\\dfrac{\\pi}{2})$ with $11$ evenly spaced grid points.\n",
    "\n",
    "So, we can use this method to approximate $\\int_0^{\\frac{\\pi}{2}}\\cos(x)dx$"
   ]
  },
  {
   "cell_type": "code",
   "execution_count": 19,
   "metadata": {},
   "outputs": [
    {
     "name": "stdout",
     "output_type": "stream",
     "text": [
      "1.1047231473405603\n",
      "-0.10472314734056032\n"
     ]
    }
   ],
   "source": [
    "a = 0\n",
    "b = np.pi/2\n",
    "n = 11\n",
    "h = (b-a)/(n-1)\n",
    "x = np.linspace(a,b,n)\n",
    "f = np.cos(x)\n",
    "\n",
    "simp = h/3 * (f[0]+2*sum(f[:n-2:2]) + 4*sum(f[1:n-1:2])+f[n-1])\n",
    "\n",
    "error = 1 - simp\n",
    "\n",
    "print(simp)\n",
    "print(error)"
   ]
  },
  {
   "cell_type": "markdown",
   "metadata": {},
   "source": [
    "Now, we can use the built in Simpson's method to see how close we come with our rough approximation. Let's see how that works."
   ]
  },
  {
   "cell_type": "code",
   "execution_count": 24,
   "metadata": {},
   "outputs": [
    {
     "name": "stdout",
     "output_type": "stream",
     "text": [
      "1.0000033922209004\n",
      "The error between the approximation and the built in method is 0.09479275904714728\n"
     ]
    }
   ],
   "source": [
    "sim = integrate.simpson(f,x)\n",
    "print(sim)\n",
    "err = abs(simp-sim)/simp\n",
    "print('The error between the approximation and the built in method is', err)"
   ]
  },
  {
   "cell_type": "markdown",
   "metadata": {},
   "source": [
    "We can see this error is extremely close to the error calculated before. The actual value of the integration is $1$, and this method is much closer to the actual value. Only at the sixth decimal point, does the answer differ. We can see the error is also different though. "
   ]
  }
 ],
 "metadata": {
  "interpreter": {
   "hash": "e35555b63be10ada04ecc3e6b847e282b143adce4badf5d353858b2c94d05ee1"
  },
  "kernelspec": {
   "display_name": "Python 3.9.6 64-bit",
   "language": "python",
   "name": "python3"
  },
  "language_info": {
   "codemirror_mode": {
    "name": "ipython",
    "version": 3
   },
   "file_extension": ".py",
   "mimetype": "text/x-python",
   "name": "python",
   "nbconvert_exporter": "python",
   "pygments_lexer": "ipython3",
   "version": "3.9.6"
  },
  "orig_nbformat": 4
 },
 "nbformat": 4,
 "nbformat_minor": 2
}
