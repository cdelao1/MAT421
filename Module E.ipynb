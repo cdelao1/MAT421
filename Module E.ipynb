{
 "cells": [
  {
   "cell_type": "markdown",
   "metadata": {},
   "source": [
    "Now, we will learn to play with Python functions. Functions which are built in, and creating our own funtions. We have endless examples and applications."
   ]
  },
  {
   "cell_type": "code",
   "execution_count": 25,
   "metadata": {},
   "outputs": [],
   "source": [
    "#import the good stuff\n",
    "import numpy as np\n",
    "import matplotlib.pyplot as plt"
   ]
  },
  {
   "cell_type": "markdown",
   "metadata": {},
   "source": [
    "First we'll demonstrate some built in python functions before making our own. We'll use simple ones that are commonly used and known."
   ]
  },
  {
   "cell_type": "code",
   "execution_count": 26,
   "metadata": {},
   "outputs": [
    {
     "name": "stdout",
     "output_type": "stream",
     "text": [
      "0.7071067811865476 0.7071067811865476\n",
      "The dog walks.\n",
      "THE DOG WALKS.\n",
      "['THE', 'DOG', 'WALKS.']\n"
     ]
    }
   ],
   "source": [
    "#the cosine and sine functions.\n",
    "from numpy import cos, sin\n",
    "x = cos(np.pi/4)\n",
    "y = sin(np.pi/4)\n",
    "print(x,y)\n",
    "\n",
    "#We can also use functions on strings\n",
    "s = str(input('Enter a phrase: '))\n",
    "print(s)\n",
    "#capitalize all letters in the string\n",
    "s = s.upper()\n",
    "print(s)\n",
    "#make a list of words from a string\n",
    "a = s.split()\n",
    "print(a)"
   ]
  },
  {
   "cell_type": "markdown",
   "metadata": {},
   "source": [
    "There's numerous functions available at our disposal. We can utilize built in ones in the making of our own unique function. For example, we can make a function to find the torque of a wrench given a couple parameters. Consider a wrench of mass $m=0.32\\text{kg}$ and length $l = 25\\text{cm}$. We'll assume the force on the wrench is being applied at the very end and doesn't slip. Say you push on the wrench with $F=10\\text{lbs}$ of force."
   ]
  },
  {
   "cell_type": "code",
   "execution_count": 27,
   "metadata": {},
   "outputs": [
    {
     "name": "stdout",
     "output_type": "stream",
     "text": [
      "Torque vector:  [ 0.     0.    11.125] N\n",
      "Torque value:  11.125 N\n",
      "Angle bewteen vectors:  90.0 °\n"
     ]
    }
   ],
   "source": [
    "#torque function\n",
    "def torque(length, force):\n",
    "    #convert cm to m\n",
    "    l = length/100\n",
    "    #convert lbs to newtons\n",
    "    f = force*4.45\n",
    "    #make each entry a vector\n",
    "    lv = np.array([l,0,0])\n",
    "    lf = np.array([0,f,0])\n",
    "\n",
    "    tq = np.cross(lv,lf.T)\n",
    "\n",
    "    dtheta = np.dot(lv,lf.T)\n",
    "    angle = np.arccos(dtheta)\n",
    "    tor = l*f*sin(angle)\n",
    "    angle = np.arccos(dtheta)*(180/np.pi)\n",
    "\n",
    "    return tq, angle, tor\n",
    "\n",
    "length = float(input('Please enter the length of wrench in cm: '))\n",
    "force = float(input('Please enter the pounds of force applied: '))\n",
    "x = torque(length,force)\n",
    "print('Torque vector: ',x[0],'N')\n",
    "print('Torque value: ',x[2],'N')\n",
    "print('Angle bewteen vectors: ',x[1],'°')"
   ]
  },
  {
   "cell_type": "markdown",
   "metadata": {},
   "source": [
    "We could then make a nested function which either calls on the previous function in it's body, or we can make an entirely new function that exists only inside that function. We'll try the nested declaration here using the same example. This time, we'll take it a minute further and calculate the angular velocity of the wrench as it's rotating. "
   ]
  },
  {
   "cell_type": "code",
   "execution_count": 28,
   "metadata": {},
   "outputs": [
    {
     "name": "stdout",
     "output_type": "stream",
     "text": [
      "Angular velocity:  0.11125 rad/s\n"
     ]
    }
   ],
   "source": [
    "def angvel(mass, length, force):\n",
    "\n",
    "    def tor(length, force):\n",
    "    #convert cm to m\n",
    "        l = length/100\n",
    "    #convert lbs to newtons\n",
    "        f = force*4.45\n",
    "    #make each entry a vector\n",
    "        lv = np.array([l,0,0])\n",
    "        lf = np.array([0,f,0])\n",
    "        dtheta = np.dot(lv,lf.T)\n",
    "        angle = np.arccos(dtheta)\n",
    "        tq = l*f*sin(angle)\n",
    "        \n",
    "        return tq\n",
    "    \n",
    "    #Torque = I*omega = moment of inertia * angular velocity\n",
    "    inertia = 1/2*mass*length**2\n",
    "    torque = tor(length, force)\n",
    "    angular = torque/inertia\n",
    "    return angular\n",
    "\n",
    "length = float(input('Please enter the length of wrench in cm: '))\n",
    "force = float(input('Please enter the pounds of force applied: '))\n",
    "mass = float(input('Please enter the mass of the wrench in kg: '))\n",
    "x = angvel(mass,length,force)\n",
    "print('Angular velocity: ',x,'rad/s')"
   ]
  }
 ],
 "metadata": {
  "interpreter": {
   "hash": "e35555b63be10ada04ecc3e6b847e282b143adce4badf5d353858b2c94d05ee1"
  },
  "kernelspec": {
   "display_name": "Python 3.9.6 64-bit",
   "language": "python",
   "name": "python3"
  },
  "language_info": {
   "codemirror_mode": {
    "name": "ipython",
    "version": 3
   },
   "file_extension": ".py",
   "mimetype": "text/x-python",
   "name": "python",
   "nbconvert_exporter": "python",
   "pygments_lexer": "ipython3",
   "version": "3.9.6"
  },
  "orig_nbformat": 4
 },
 "nbformat": 4,
 "nbformat_minor": 2
}
