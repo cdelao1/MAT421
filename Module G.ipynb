{
 "cells": [
  {
   "cell_type": "code",
   "execution_count": 18,
   "metadata": {},
   "outputs": [],
   "source": [
    "#importing the good stuff\n",
    "import numpy as np\n",
    "import scipy as sp"
   ]
  },
  {
   "cell_type": "markdown",
   "metadata": {},
   "source": [
    "In python, we can integrate numerous functions, and really any function by whatever means necessary. From our introductory calculus courses, we learn integration as with trapezoids, then with what's called Simpson's rule. From there we delve into rectangular integration, otherwise known as Riemann integration. Of course this is different from the analysis definition we learn in upper division, but from a computational standpoint, our comfortable definition suffices. Here we can go ahead and make use of what's been given to us in the SciPy package."
   ]
  },
  {
   "cell_type": "markdown",
   "metadata": {},
   "source": [
    "We'll make use of trapezoidal integration first, just to demonstate how it works from the package and how it's done manually. Consider the function\n",
    "$$f(x)=\\sin(x)$$ \n",
    "We shall integrate over one period of $\\sin$ and break this up into 15 even trapezoids. The more trapezoids, the more accurate the number, to machine precision of course."
   ]
  },
  {
   "cell_type": "code",
   "execution_count": 19,
   "metadata": {},
   "outputs": [
    {
     "name": "stdout",
     "output_type": "stream",
     "text": [
      "1.9916004273550743\n",
      "1.9916004273550747\n"
     ]
    }
   ],
   "source": [
    "a = 0\n",
    "b = np.pi\n",
    "n = 15\n",
    "# the height of our trapezoids are:\n",
    "h = (b-a)/(n-1)\n",
    "# and the points of which we integrate\n",
    "x = np.linspace(a, b, n)\n",
    "# our function\n",
    "f = np.sin(x)\n",
    "\n",
    "# now we integrate manually\n",
    "integrationByBruteForce = (h/2)*(f[0]+2*sum(f[1:n-1])+f[n-1])\n",
    "print(integrationByBruteForce)\n",
    "\n",
    "#####################################\n",
    "# now we integrate using the built in trapezoidal method\n",
    "from scipy.integrate import trapz\n",
    "\n",
    "integration = trapz(f,x)\n",
    "print(integration)\n"
   ]
  },
  {
   "cell_type": "markdown",
   "metadata": {},
   "source": [
    "As you can see, there isn't too large of a difference for there to matter. Either method is valid, and only depends on the greater than 15 significant figures. WHEN we use larger values of $n$. If you keep increasing the number of trapezoids, the integration only gets more and more accurate. Of course, this all depends on the function we use, and the length of the interval. The length of the interval matters directly to the number of trapezoids we choose, but you get the point.\n",
    "\n",
    "Now we can look at other integration methods for the same sine function"
   ]
  },
  {
   "cell_type": "code",
   "execution_count": 20,
   "metadata": {},
   "outputs": [
    {
     "name": "stdout",
     "output_type": "stream",
     "text": [
      "2.0\n",
      "2.220446049250313e-14\n"
     ]
    }
   ],
   "source": [
    "quadIntegration, error = sp.integrate.quad(np.sin, a, b)\n",
    "print(quadIntegration)\n",
    "print(error)"
   ]
  },
  {
   "cell_type": "markdown",
   "metadata": {},
   "source": [
    "We can also try Simpson's rule for linear functions in multiple dimensions. This lets us integrate along a specified axis if we're in multiple dimensions."
   ]
  },
  {
   "cell_type": "code",
   "execution_count": 21,
   "metadata": {},
   "outputs": [
    {
     "name": "stdout",
     "output_type": "stream",
     "text": [
      "98.0\n"
     ]
    }
   ],
   "source": [
    "x = np.arange(0,15)\n",
    "y = np.arange(0,15)\n",
    "\n",
    "simp = sp.integrate.simpson(y,x,even='avg')\n",
    "print(simp)"
   ]
  }
 ],
 "metadata": {
  "interpreter": {
   "hash": "e35555b63be10ada04ecc3e6b847e282b143adce4badf5d353858b2c94d05ee1"
  },
  "kernelspec": {
   "display_name": "Python 3.9.6 64-bit",
   "language": "python",
   "name": "python3"
  },
  "language_info": {
   "codemirror_mode": {
    "name": "ipython",
    "version": 3
   },
   "file_extension": ".py",
   "mimetype": "text/x-python",
   "name": "python",
   "nbconvert_exporter": "python",
   "pygments_lexer": "ipython3",
   "version": "3.9.6"
  },
  "orig_nbformat": 4
 },
 "nbformat": 4,
 "nbformat_minor": 2
}
