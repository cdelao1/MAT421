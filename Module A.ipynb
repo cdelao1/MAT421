{
 "cells": [
  {
   "cell_type": "code",
   "execution_count": 33,
   "metadata": {},
   "outputs": [],
   "source": [
    "#importing useful/common packages\n",
    "import numpy as np\n",
    "import scipy as sp\n",
    "import scipy.special as sps\n",
    "import pandas\n",
    "import time\n",
    "import sympy\n",
    "import matplotlib.pyplot as plt\n",
    "from mpl_toolkits.mplot3d import Axes3D"
   ]
  },
  {
   "cell_type": "markdown",
   "metadata": {},
   "source": [
    "Write a function my_bin_2_dec(b) where b is binary number represented by a list of ones and zeros. \n",
    "The last element of b represents the coefficient of 2^0, the second-to-last element of b represents the \n",
    "coefficient of 2, and so on. The output variable, d, should be the decimal representation of b. \n",
    "The test cases are provided below.\n",
    "\n",
    "I think inputting a list makes this function and problem too easy. Thus, I decided to have the user enter\n",
    "a decimal number. I added an \"error\" message for any invalid input. Thus, the function will only execute upon\n",
    "a proper input."
   ]
  },
  {
   "cell_type": "code",
   "execution_count": 2,
   "metadata": {},
   "outputs": [
    {
     "name": "stdout",
     "output_type": "stream",
     "text": [
      "You may only enter a binary number, please try again\n",
      "You may only enter a binary number, please try again\n",
      "1654 in decimal form is  15.0\n",
      "1001101 in decimal form is 77.0\n"
     ]
    }
   ],
   "source": [
    "def my_bin_2_dec(b):\n",
    "    d = float(0)\n",
    "    s = str(b)\n",
    "    n = len(s)\n",
    "    for i in s:\n",
    "        a = int(i)\n",
    "        if a == 0:\n",
    "            c = 0\n",
    "        elif a == 1:\n",
    "            c = 1\n",
    "        d += c*2**n\n",
    "        n -= 1\n",
    "    d = d/2\n",
    "    return d\n",
    "\n",
    "#user friendly interface\n",
    "'''while True:\n",
    "    try:\n",
    "        b = int(input('Please enter a binary number: '))\n",
    "    except ValueError:\n",
    "        print('You may only enter a binary number, please try again')\n",
    "        continue\n",
    "    if b < 0:\n",
    "        print('You may only enter a binary number, please try again')\n",
    "    else:\n",
    "        break\n",
    "print(b,'in decimal form is ',my_bin_2_dec(b))'''\n",
    "\n",
    "#example\n",
    "b = 1001101\n",
    "print(b,'in decimal form is',my_bin_2_dec(b))"
   ]
  },
  {
   "cell_type": "markdown",
   "metadata": {},
   "source": [
    "Write a function my_dec_2_bin(d), where d is a positive integer in decimal, and b is the binary representation \n",
    "of d. The output b must be a list of ones and zeros, and the leading term must be a 1 unless the decimal input \n",
    "value is 0. The test cases are provided below.\n",
    "\n",
    "Once again, I think outputting a list is too simple, it's more challenging and user friendly to print a binary \n",
    "number"
   ]
  },
  {
   "cell_type": "code",
   "execution_count": 37,
   "metadata": {},
   "outputs": [
    {
     "name": "stdout",
     "output_type": "stream",
     "text": [
      "35410354 in binary form is 10000111000101000110110010\n"
     ]
    }
   ],
   "source": [
    "def my_dec_2_bin(d):\n",
    "    num = list()\n",
    "    a = 1\n",
    "    b = str()\n",
    "    while a > 0:\n",
    "        a = d//2 \n",
    "        c = d%2\n",
    "        num.append(c)\n",
    "        d = a\n",
    "    num.reverse()\n",
    "    for i in num:\n",
    "        i = int(i)\n",
    "        i = str(i)\n",
    "        b += i\n",
    "    return b\n",
    "\n",
    "#user friendly interface\n",
    "'''while True:\n",
    "    try:\n",
    "        d = float(input('Please enter a decimal number: '))\n",
    "    except ValueError:\n",
    "        print('You may only enter a decimal number, please try again')\n",
    "        continue\n",
    "    if d < 0:\n",
    "        print('You may only enter a decimal number, please try again')\n",
    "    else:\n",
    "        break\n",
    "print(d,'in binary form is', my_dec_2_bin(d))'''\n",
    "\n",
    "#example\n",
    "d = 35410354\n",
    "print(d,'in binary form is',my_dec_2_bin(d))"
   ]
  },
  {
   "cell_type": "markdown",
   "metadata": {},
   "source": [
    "What is the effect of allocating more bits to the fraction versus the characteristic and vice versa? What is the \n",
    "effect of allocating more bits to the sign?\n",
    "\n",
    "Allocating more bits to the sign is useless. The sign requires one bit, only the information determining if the \n",
    "number is positive or negative. Allocating more bits to the fraction allows for more numbers after the decimal place.\n",
    "Allocationg more bits to the characteristic allows for more numbers before the decimal point. "
   ]
  },
  {
   "cell_type": "markdown",
   "metadata": {},
   "source": [
    "Define ieee_baby to be a representation of numbers using 6 bits where the first bit is the sign bit, the second and third bits are allocated to the characteristic, and the fourth, fifth, and sixth bits are allocated to the fraction. The normalization for the characteristic is 1.\n",
    "\n",
    "Write all the decimal numbers that can be represented by ieee_baby. What is the largest/smallest gap in ieee_baby?\n",
    "\n",
    "I can tell that the range of numbers we'll having using these allocations will be from -5.999 to 5.999. In binay form, the largest number, which is |5.999|, with our first digit being the sign of the number. In mathematics, the interval, (-5.999, 5.999) where we only have 3 decimal places in precision."
   ]
  },
  {
   "cell_type": "code",
   "execution_count": 34,
   "metadata": {},
   "outputs": [
    {
     "name": "stdout",
     "output_type": "stream",
     "text": [
      "111011\n",
      "011011\n"
     ]
    }
   ],
   "source": [
    "def ieee_baby(a):\n",
    "    ieee = list()\n",
    "    num = str()\n",
    "    #determines sign bit\n",
    "    if a > 0:\n",
    "        ieee.append(0)\n",
    "    elif a < 0:\n",
    "        ieee.append(1)\n",
    "    #negating sign bit in event of\n",
    "    #negative number\n",
    "    a = abs(a)\n",
    "    #modified n=(−1)^s * 2^(e−1023) * (1+f)\n",
    "    #for 6-bit\n",
    "    e = a//2\n",
    "    ex = e + 1\n",
    "    ieee.append(my_dec_2_bin(ex))\n",
    "    f = a/(2**e)-1\n",
    "    #determining fraction component of ieee \n",
    "    #format\n",
    "    for i in range(1,4):\n",
    "        f1 = str(f*2)\n",
    "        ieee.append(f1[0])\n",
    "        f = float(f1) - int(f1[0])\n",
    "        i += 1\n",
    "    #stringing numbers together to print nicely\n",
    "    for i in ieee:\n",
    "        i = str(i)\n",
    "        num += i\n",
    "    return num\n",
    "\n",
    "print(ieee_baby(-5.999))\n",
    "print(ieee_baby(5.999))"
   ]
  }
 ],
 "metadata": {
  "interpreter": {
   "hash": "e35555b63be10ada04ecc3e6b847e282b143adce4badf5d353858b2c94d05ee1"
  },
  "kernelspec": {
   "display_name": "Python 3.9.6 64-bit",
   "language": "python",
   "name": "python3"
  },
  "language_info": {
   "codemirror_mode": {
    "name": "ipython",
    "version": 3
   },
   "file_extension": ".py",
   "mimetype": "text/x-python",
   "name": "python",
   "nbconvert_exporter": "python",
   "pygments_lexer": "ipython3",
   "version": "3.9.6"
  },
  "orig_nbformat": 4
 },
 "nbformat": 4,
 "nbformat_minor": 2
}
