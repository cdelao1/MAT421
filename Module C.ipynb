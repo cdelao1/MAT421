{
 "cells": [
  {
   "cell_type": "markdown",
   "metadata": {},
   "source": [
    "In this module we will focus on the what's known as Root Finding. The most common example is \n",
    "the use of the quadratic equation to find the roots of a quadratic polynomial. In general, this \n",
    "can be done for numerous functions, some of which aren't exactly polynomials. Many equations \n",
    "don't have closed form (analytic, or exact) solutions and must be solved numerically (iterative \n",
    "approximations)."
   ]
  },
  {
   "cell_type": "code",
   "execution_count": 148,
   "metadata": {},
   "outputs": [],
   "source": [
    "#import the good stuff\n",
    "import numpy as np\n",
    "from scipy import optimize as op\n",
    "import sympy as sy\n",
    "\n",
    "#function for difference between values\n",
    "def difference(a, b):\n",
    "    if a > b:\n",
    "        diff = a - b\n",
    "    else:\n",
    "        diff = b - a\n",
    "    return abs(diff)"
   ]
  },
  {
   "cell_type": "markdown",
   "metadata": {},
   "source": [
    "First, let's look at an example of the Newton-Raphson Method. All it requires is that the function \n",
    "of interest is a smooth function (infinite continously differentiable). We'll consider a function, \n",
    "say $f(x)$ that has a root $x_r$. Next, we'll take a guess at what the actual/closest root is. Call \n",
    "it $x_0$. Unless we're super lucky, $f(x_0) \\neq 0$. We'll use a linear approximation method to get \n",
    "closer to our desired value of $x_r$. We'll need $f'(x)$ and then we can plug use it in our new \n",
    "method. The linear appoximation of $f(x)$ around $x_0$ is $f(x) \\approx f(x_0)+f'(x_0)(x-x_0)$. From \n",
    "this we then find $x_1$ such that $f(x_1)=0$. Then we use this new value $0=f(x_0)+f'(x_0)(x_1-x_0)$. \n",
    "Solving for $x_1$ we get $x_1=x_0-\\frac{f(x_0)}{f'(x_0)}$."
   ]
  },
  {
   "cell_type": "markdown",
   "metadata": {},
   "source": [
    "In general, the Newton-Raphson Method does this iteratively. Thus, our general form of this equation is:\n",
    "$$x_i=x_{i-1}-\\frac{f(x_{i-1})}{f'(x_{i-1})}$$\n",
    "This will continue until we're within our specified tolerance if the function is never *actually* zero. \n",
    "Now we'll actually look at an example and process this to get an answer."
   ]
  },
  {
   "cell_type": "code",
   "execution_count": 149,
   "metadata": {},
   "outputs": [
    {
     "name": "stdout",
     "output_type": "stream",
     "text": [
      "The function: f = 2*x**3 - x + 2\n",
      "Your guess: -1.1\n",
      "One step Newton-Raphson: -1.169968051118211\n",
      "Actual zero value: -1.1653730430624147\n",
      "Difference error: 0.004595008055796157\n"
     ]
    }
   ],
   "source": [
    "g = lambda y: 2*y**3 - y + 2\n",
    "dg = lambda y: 6*y**2 - 1\n",
    "\n",
    "f, x, df = sy.symbols('f x f\\'')\n",
    "print('The function: f = 2*x**3 - x + 2')\n",
    "\n",
    "guess = float(input('Please enter an estimated zero: '))\n",
    "print('Your guess:', guess)\n",
    "\n",
    "newton = guess - (g(guess))/(dg(guess))\n",
    "print('One step Newton-Raphson:', newton)\n",
    "\n",
    "diff = difference(newton,-1.1653730430624147)\n",
    "print('Actual zero value: -1.1653730430624147')\n",
    "print('Difference error:', diff)\n"
   ]
  },
  {
   "cell_type": "markdown",
   "metadata": {},
   "source": [
    "Now we'll write this as a function to do the process iteratively until we're inside a specified tolerance.\n",
    "For this function, we'll start with a *far* away guess to observe how to gets closer, number of iterations, and then we'll fix the \n",
    "tolerance, which would otherwise be an input."
   ]
  },
  {
   "cell_type": "code",
   "execution_count": 150,
   "metadata": {},
   "outputs": [
    {
     "name": "stdout",
     "output_type": "stream",
     "text": [
      "Your guess: 25.0\n",
      "Newton-Raphson approximation: -1.1653731666550824\n",
      "Number of iterations: 19\n",
      "Difference error: 1.235926676557142e-07\n"
     ]
    }
   ],
   "source": [
    "def newrap(f, df, x0, tol = 1e-6, n=1):\n",
    "    if abs(f(x0)) < tol:\n",
    "        return x0, n\n",
    "    else:\n",
    "        n += 1\n",
    "        return newrap(f,df,x0-f(x0)/df(x0),tol, n)\n",
    "\n",
    "guess = float(input('Please enter an estimated zero: '))\n",
    "print('Your guess:', guess)\n",
    "z = newrap(g, dg, guess)\n",
    "print('Newton-Raphson approximation:', z[0])\n",
    "print('Number of iterations:', z[1])\n",
    "diff = difference(z[0], -1.1653730430624147)\n",
    "print('Difference error:', diff)"
   ]
  },
  {
   "cell_type": "markdown",
   "metadata": {},
   "source": [
    "This is how most calculators, graphing programs, and solvers work. This is the appoximation method used iteratively.\n",
    "Python has this function built into the SciPy library, it's called *fsolve*. However, this function requires you be sufficiently \n",
    "close to the correct zero. If there are complex zeros, it will appoximate to the *real* part of the imaginary \n",
    "root. The completely real zero must be our closest choice. Luckily, our function of choice will have only one negative root, \n",
    "so any negative number will suffice. We'll select an absurd negative number to demonstrate."
   ]
  },
  {
   "cell_type": "code",
   "execution_count": 152,
   "metadata": {},
   "outputs": [
    {
     "name": "stdout",
     "output_type": "stream",
     "text": [
      "Your guess: -131.0\n",
      "fsolve solution [-1.16537304]\n"
     ]
    }
   ],
   "source": [
    "guess = float(input('Please enter a estimated zero: '))\n",
    "print('Your guess:',guess)\n",
    "sol = op.fsolve(g,guess)\n",
    "print('fsolve solution', sol[0])"
   ]
  }
 ],
 "metadata": {
  "interpreter": {
   "hash": "e35555b63be10ada04ecc3e6b847e282b143adce4badf5d353858b2c94d05ee1"
  },
  "kernelspec": {
   "display_name": "Python 3.9.6 64-bit",
   "language": "python",
   "name": "python3"
  },
  "language_info": {
   "codemirror_mode": {
    "name": "ipython",
    "version": 3
   },
   "file_extension": ".py",
   "mimetype": "text/x-python",
   "name": "python",
   "nbconvert_exporter": "python",
   "pygments_lexer": "ipython3",
   "version": "3.9.6"
  },
  "orig_nbformat": 4
 },
 "nbformat": 4,
 "nbformat_minor": 2
}
